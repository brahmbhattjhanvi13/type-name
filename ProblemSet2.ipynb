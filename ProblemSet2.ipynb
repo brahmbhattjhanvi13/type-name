{
 "cells": [
  {
   "cell_type": "markdown",
   "id": "fcd09538",
   "metadata": {},
   "source": [
    "                                                    PROBLEM SET 2"
   ]
  },
  {
   "cell_type": "markdown",
   "id": "053bed92",
   "metadata": {},
   "source": [
    "(Q1) Consider the following Python module:\n",
    "a = 0\n",
    "def b():\n",
    "global a\n",
    "a = c(a)\n",
    "def c(a):\n",
    "return a + 2\n",
    "After importing the module into the interpreter, you execute:\n",
    "b()\n",
    "b()\n",
    "b()\n",
    "a\n",
    "?\n",
    "What value is displayed when the last expression (a) is evaluated? Explain your Banswer by indicating what happens in every executed statement."
   ]
  },
  {
   "cell_type": "code",
   "execution_count": 37,
   "id": "28982187",
   "metadata": {},
   "outputs": [
    {
     "name": "stdout",
     "output_type": "stream",
     "text": [
      "6\n"
     ]
    }
   ],
   "source": [
    "a = 0\n",
    "def b():\n",
    "    global a\n",
    "    a = c(a)\n",
    "def c(a):\n",
    "    return a + 2\n",
    "b()\n",
    "b()\n",
    "b()\n",
    "\n",
    "print(a)\n"
   ]
  },
  {
   "cell_type": "markdown",
   "id": "c50315d2",
   "metadata": {},
   "source": [
    "This code initializes a global variable \"a\" to 0, defines a function \"b\" that calls a function \"c\" and assigns the result back to \"a\". The function \"c\" takes one parameter and adds 2 to it before returning the result. The \"global a\" statement inside \"b\" declares that \"a\" is the global variable defined outside the function. The first call to \"b\" sets \"a\" to 2."
   ]
  },
  {
   "cell_type": "markdown",
   "id": "55a4c18c",
   "metadata": {},
   "source": [
    "(Q2) Function fileLength(), given to you, takes the name of a file as input and returns\n",
    "the length of the file:\n",
    "fileLength('midterm.py')\n",
    "284\n",
    "fileLength('idterm.py')\n",
    "Traceback (most recent call last):\n",
    "File \"<pyshell#34>\", line 1, in <module>\n",
    "fileLength('idterm.py')\n",
    "File \"/Users/me/midterm.py\", line 3, in fileLength\n",
    "infile = open(filename)\n",
    "FileNotFoundError: [Errno 2] No such file or directory:\n",
    "'idterm.py'\n",
    "As shown above, if the file cannot be found by the interpreter or if it cannot be read\n",
    "as a text file, an exception will be raised. Modify function fileLength() so that a\n",
    "friendly message is printed instead:\n",
    "fileLength('midterm.py')\n",
    "358\n",
    "fileLength('idterm.py')\n",
    "File idterm.py not found."
   ]
  },
  {
   "cell_type": "markdown",
   "id": "62f1cfb6",
   "metadata": {},
   "source": [
    ">>This cell shows what happens if file is found"
   ]
  },
  {
   "cell_type": "code",
   "execution_count": 2,
   "id": "d4ec8387",
   "metadata": {},
   "outputs": [
    {
     "name": "stdout",
     "output_type": "stream",
     "text": [
      "File midterm.txt not found.\n"
     ]
    }
   ],
   "source": [
    "file = 'midterm.txt'\n",
    "try:\n",
    "    fileLength = fileLength(file)\n",
    "    print(f\"The length of file {file} is {fileLength} bytes.\")\n",
    "except:\n",
    "    print(f\"File {file} not found.\")\n"
   ]
  },
  {
   "cell_type": "markdown",
   "id": "c0fc94bc",
   "metadata": {},
   "source": [
    "(Q3)Write a class named Marsupial that can be used as shown below:\n",
    "m = Marsupial()\n",
    "m.put_in_pouch('doll')\n",
    "m.put_in_pouch('firetruck')\n",
    "m.put_in_pouch('kitten')\n",
    "m.pouch_contents()\n",
    "['doll', 'firetruck', 'kitten']\n",
    "Now write a class named Kangaroo as a subclass of Marsupial that inherits all the\n",
    "attributes of Marsupial and also:\n",
    "a. extends the Marsupial __init__ constructor to take, as input, the\n",
    "coordinates x and y of the Kangaroo object,\n",
    "b. supports method jump that takes number values dx and dy as input and\n",
    "movesthe kangaroo by dx units along the x-axis and by dy units along the yaxis, and\n",
    "c. overloads the __str__ operator so it behaves as shown below.\n",
    "k = Kangaroo(0,0)\n",
    "print(k)\n",
    "I am a Kangaroo located at coordinates (0,0)\n",
    "k.put_in_pouch('doll')\n",
    "k.put_in_pouch('firetruck')\n",
    "k.put_in_pouch('kitten')\n",
    "k.pouch_contents()\n",
    "['doll', 'firetruck', 'kitten']\n",
    "k.jump(1,0)\n",
    "k.jump(1,0)\n",
    "k.jump(1,0)\n",
    "print(k)\n",
    "I am a Kangaroo located at coordinates (3,0)"
   ]
  },
  {
   "cell_type": "code",
   "execution_count": 10,
   "id": "eea4b80f",
   "metadata": {},
   "outputs": [
    {
     "name": "stdout",
     "output_type": "stream",
     "text": [
      "['doll', 'firetruck', 'kitten']\n",
      "I am a Kangaroo located at coordinates (0,0)\n",
      "['doll', 'firetruck', 'kitten']\n",
      "I am a Kangaroo located at coordinates (3,0)\n"
     ]
    }
   ],
   "source": [
    "class Marsupial:\n",
    "    def __init__(self):\n",
    "        self.pouch = []\n",
    "\n",
    "    def put_in_pouch(self, item):\n",
    "        self.pouch.append(item)\n",
    "\n",
    "    def pouch_contents(self):\n",
    "        return self.pouch\n",
    "\n",
    "\n",
    "class Kangaroo(Marsupial):\n",
    "    def __init__(self, x, y):\n",
    "        super().__init__()\n",
    "        self.x = x\n",
    "        self.y = y\n",
    "\n",
    "    def jump(self, dx, dy):\n",
    "        self.x += dx\n",
    "        self.y += dy\n",
    "\n",
    "    def __str__(self):\n",
    "        return f\"I am a Kangaroo located at coordinates ({self.x},{self.y})\"\n",
    "\n",
    "m = Marsupial()\n",
    "m.put_in_pouch('doll')\n",
    "m.put_in_pouch('firetruck')\n",
    "m.put_in_pouch('kitten')\n",
    "print(m.pouch_contents())\n",
    "\n",
    "k = Kangaroo(0, 0)\n",
    "print(k)\n",
    "k.put_in_pouch('doll')\n",
    "k.put_in_pouch('firetruck')\n",
    "k.put_in_pouch('kitten')\n",
    "print(k.pouch_contents())\n",
    "k.jump(1, 0)\n",
    "k.jump(1, 0)\n",
    "k.jump(1, 0)\n",
    "print(k)\n"
   ]
  },
  {
   "cell_type": "markdown",
   "id": "d1de0a32",
   "metadata": {},
   "source": [
    "(Q4)Write function collatz() that takes a positive integer x as input and prints the\n",
    "Collatz sequence starting at x. A Collatz sequence is obtained by repeatedly applying\n",
    "this rule to the previous number x in the sequence:\n",
    "x = {\n",
    "𝑥/2 𝑖𝑓 𝑥 𝑖𝑠 𝑒𝑣𝑒𝑛3𝑥\n",
    "+1 𝑖𝑓 𝑥 𝑖𝑠 𝑜𝑑𝑑\n",
    "Your function should stop when the sequence gets to number 1. Your\n",
    "implementation must be recursive, without any loops.\n",
    "collatz(1)\n",
    "1\n",
    "collatz(10)\n",
    "10\n",
    "5\n",
    "16\n",
    "8\n",
    "4\n",
    "2\n",
    "1"
   ]
  },
  {
   "cell_type": "code",
   "execution_count": 13,
   "id": "9899543f",
   "metadata": {},
   "outputs": [
    {
     "name": "stdout",
     "output_type": "stream",
     "text": [
      "10\n",
      "5\n",
      "16\n",
      "8\n",
      "4\n",
      "2\n",
      "1\n"
     ]
    }
   ],
   "source": [
    "def collatz(x):\n",
    "    print(x)\n",
    "    if x == 1:\n",
    "        return\n",
    "    elif x % 2 == 0:\n",
    "        collatz(x // 2)\n",
    "    else:\n",
    "        collatz(3 * x + 1)\n",
    "collatz(10)\n"
   ]
  },
  {
   "cell_type": "markdown",
   "id": "9e2fb59d",
   "metadata": {},
   "source": [
    "(Q5)Write a recursive method binary() that takes a non-negative\n",
    "integer n and prints the binary representation of integer n.\n",
    "binary(0)\n",
    "0\n",
    "binary(1)\n",
    "1\n",
    "binary(3)\n",
    "11\n",
    "binary(9)\n",
    "1001"
   ]
  },
  {
   "cell_type": "code",
   "execution_count": 14,
   "id": "0f3cdaf9",
   "metadata": {},
   "outputs": [
    {
     "data": {
      "text/plain": [
       "'1001'"
      ]
     },
     "execution_count": 14,
     "metadata": {},
     "output_type": "execute_result"
    }
   ],
   "source": [
    "def binary(n):\n",
    "    if n == 0:\n",
    "        return '0'\n",
    "    elif n == 1:\n",
    "        return '1'\n",
    "    else:\n",
    "        return binary(n // 2) + str(n % 2)\n",
    "binary(9)"
   ]
  },
  {
   "cell_type": "markdown",
   "id": "c13a6310",
   "metadata": {},
   "source": [
    "(Q6)Implement a class named HeadingParser that can be used to parse an HTML\n",
    "document, and retrieve and print all the headings in the document. You should\n",
    "implement your class as a subclass of HTMLParser, defined in Standard Library\n",
    "module html.parser. When fed a string containing HTML code, your class should\n",
    "print the headings, one per line and in the order in which they appear in the\n",
    "document.Each heading should be indented asfollows: an h1 heading should have\n",
    "indentation 0, and h2 heading should have indentation 1, etc. Test your\n",
    "implementation using w3c.html.\n",
    "infile = open('w3c.html')\n",
    "content = infile.read()\n",
    "infile.close()\n",
    "hp = HeadingParser()\n",
    "hp.feed(content)\n",
    "W3C Mission\n",
    "Principles"
   ]
  },
  {
   "cell_type": "code",
   "execution_count": 1,
   "id": "f85dc2f8",
   "metadata": {},
   "outputs": [
    {
     "name": "stdout",
     "output_type": "stream",
     "text": [
      "Change_me\n",
      "W3C Mission\n",
      " Principles\n"
     ]
    }
   ],
   "source": [
    "from html.parser import HTMLParser\n",
    "\n",
    "\n",
    "class HeadingParser(HTMLParser):\n",
    "    def __init__(self):\n",
    "        super().__init__()\n",
    "        self.indentation = 0\n",
    "        self.headings = []\n",
    "\n",
    "    def handle_starttag(self, tag, attrs):\n",
    "        if tag.startswith('h') and len(tag) > 1 and tag[1].isdigit():\n",
    "            self.indentation = int(tag[1]) - 1\n",
    "\n",
    "    def handle_data(self, data):\n",
    "        if data.strip() != '':\n",
    "            self.headings.append((' ' * self.indentation) + data.strip())\n",
    "\n",
    "    def print_headings(self):\n",
    "        for heading in self.headings:\n",
    "            print(heading)\n",
    "\n",
    "\n",
    "with open('w3c.html', 'r') as f:\n",
    "    content = f.read()\n",
    "\n",
    "hp = HeadingParser()\n",
    "hp.feed(content)\n",
    "hp.print_headings()\n"
   ]
  },
  {
   "cell_type": "markdown",
   "id": "bb9ce2e3",
   "metadata": {},
   "source": [
    "(Q7)Implement recursive function webdir() that takes as input: a URL (as a string) and\n",
    "non-negative integers depth and indent. Your function should visit every web\n",
    "page reachable from the starting URL web page in depth clicks or less, and print\n",
    "each web page's URL. As shown below, indentation, specified by indent, should\n",
    "be used to indicate the depth of a URL.\n",
    "\n",
    "webdir('http://reed.cs.depaul.edu/lperkovic/csc242/test1.html'\n",
    ", 2, 0)\n",
    "http://reed.cs.depaul.edu/lperkovic/csc242/test1.html\n",
    "http://reed.cs.depaul.edu/lperkovic/csc242/test2.html\n",
    "http://reed.cs.depaul.edu/lperkovic/csc242/test4.html\n",
    "http://reed.cs.depaul.edu/lperkovic/csc242/test3.html\n",
    "http://reed.cs.depaul.edu/lperkovic/csc242/test4.html"
   ]
  },
  {
   "cell_type": "code",
   "execution_count": 11,
   "id": "98514e62",
   "metadata": {},
   "outputs": [
    {
     "name": "stdout",
     "output_type": "stream",
     "text": [
      "http://reed.cs.depaul.edu/lperkovic/csc242/test1.html\n"
     ]
    }
   ],
   "source": [
    "import requests\n",
    "from bs4 import BeautifulSoup\n",
    "\n",
    "\n",
    "def get_links(url):\n",
    "    \"\"\"Returns a list of links on the given web page\"\"\"\n",
    "    response = requests.get(url)\n",
    "    soup = BeautifulSoup(response.content, 'html.parser')\n",
    "    links = []\n",
    "    for link in soup.find_all('a'):\n",
    "        href = link.get('href')\n",
    "        if href is not None:\n",
    "            links.append(href)\n",
    "    return links\n",
    "\n",
    "\n",
    "def webdir(url, depth, indent=0):\n",
    "    \"\"\"Recursively visits web pages reachable from the starting URL\n",
    "    in depth clicks or less and prints each web page's URL.\"\"\"\n",
    "    print(' ' * indent + url)\n",
    "    if depth == 0:\n",
    "        return\n",
    "    links = get_links(url)\n",
    "    for link in links:\n",
    "        if link.startswith('http'):\n",
    "            webdir(link, depth-1, indent+1)\n",
    "            \n",
    "\n",
    "webdir('http://reed.cs.depaul.edu/lperkovic/csc242/test1.html', 2, 0)\n"
   ]
  },
  {
   "cell_type": "markdown",
   "id": "01c8205a",
   "metadata": {},
   "source": [
    "(Q8)Write SQL queries on the below database table that return:\n",
    "a) All the temperature data.\n",
    "b) All the cities, but without repetition.\n",
    "c) All the records for India.\n",
    "d) All the Fall records.\n",
    "e) The city, country, and season for which the average rainfall is between 200\n",
    "and 400 millimeters.\n",
    "f) The city and country for which the average Fall temperature is above 20\n",
    "degrees, in increasing temperature order.\n",
    "g) The total annual rainfall for Cairo.\n",
    "h) The total rainfall for each season"
   ]
  },
  {
   "cell_type": "markdown",
   "id": "76e8a46c",
   "metadata": {},
   "source": [
    ">First we create a table"
   ]
  },
  {
   "cell_type": "code",
   "execution_count": 15,
   "id": "2d595394",
   "metadata": {},
   "outputs": [],
   "source": [
    "import sqlite3\n",
    "\n",
    "conn = sqlite3.connect('weather.db')\n",
    "cur = conn.cursor()\n",
    "cur.execute(\"DROP TABLE IF EXISTS WeatherData\")\n",
    "\n",
    "cur.execute('''CREATE TABLE WeatherData (\n",
    "                City TEXT,\n",
    "                Country TEXT,\n",
    "                Season TEXT,\n",
    "                Temperature REAL,\n",
    "                Rainfall REAL)''')\n",
    "\n",
    "cur.execute(\"INSERT INTO WeatherData (City, Country, Season, Temperature, Rainfall) VALUES (?, ?, ?, ?, ?)\", ('Mumbai', 'India', 'Winter', 24.8, 5.9))\n",
    "cur.execute(\"INSERT INTO WeatherData (City, Country, Season, Temperature, Rainfall) VALUES (?, ?, ?, ?, ?)\", ('Mumbai', 'India', 'Spring', 28.4, 16.2))\n",
    "cur.execute(\"INSERT INTO WeatherData (City, Country, Season, Temperature, Rainfall) VALUES (?, ?, ?, ?, ?)\", ('Mumbai', 'India', 'Summer', 27.9, 1549.4))\n",
    "cur.execute(\"INSERT INTO WeatherData (City, Country, Season, Temperature, Rainfall) VALUES (?, ?, ?, ?, ?)\", ('Mumbai', 'India', 'Fall', 27.6, 346.0))\n",
    "cur.execute(\"INSERT INTO WeatherData (City, Country, Season, Temperature, Rainfall) VALUES (?, ?, ?, ?, ?)\", ('London', 'United Kingdom', 'Winter', 4.2, 207.7))\n",
    "cur.execute(\"INSERT INTO WeatherData (City, Country, Season, Temperature, Rainfall) VALUES (?, ?, ?, ?, ?)\", ('London', 'United Kingdom', 'Spring', 8.3, 169.6))\n",
    "cur.execute(\"INSERT INTO WeatherData (City, Country, Season, Temperature, Rainfall) VALUES (?, ?, ?, ?, ?)\", ('London', 'United Kingdom', 'Summer', 15.7, 157.0))\n",
    "cur.execute(\"INSERT INTO WeatherData (City, Country, Season, Temperature, Rainfall) VALUES (?, ?, ?, ?, ?)\", ('London', 'United Kingdom', 'Fall', 10.4, 218.5))\n",
    "cur.execute(\"INSERT INTO WeatherData (City, Country, Season, Temperature, Rainfall) VALUES (?, ?, ?, ?, ?)\", ('Cairo', 'Egypt', 'Winter', 13.6, 16.5))\n",
    "cur.execute(\"INSERT INTO WeatherData (City, Country, Season, Temperature, Rainfall) VALUES (?, ?, ?, ?, ?)\", ('Cairo', 'Egypt', 'Spring', 20.7, 6.5))\n",
    "cur.execute(\"INSERT INTO WeatherData (City, Country, Season, Temperature, Rainfall) VALUES (?, ?, ?, ?, ?)\", ('Cairo', 'Egypt', 'Summer', 27.7, 0.1))\n",
    "cur.execute(\"INSERT INTO WeatherData (City, Country, Season, Temperature, Rainfall) VALUES (?, ?, ?, ?, ?)\", ('Cairo', 'Egypt', 'Fall', 22.2, 4.5))\n",
    "conn.commit()\n",
    "\n",
    "conn.close()\n"
   ]
  },
  {
   "cell_type": "markdown",
   "id": "b4ee029f",
   "metadata": {},
   "source": [
    "now we write manipulation code"
   ]
  },
  {
   "cell_type": "code",
   "execution_count": 16,
   "id": "17ae6b4d",
   "metadata": {},
   "outputs": [
    {
     "name": "stdout",
     "output_type": "stream",
     "text": [
      "All temperature data:\n",
      "[(24.8,), (28.4,), (27.9,), (27.6,), (4.2,), (8.3,), (15.7,), (10.4,), (13.6,), (20.7,), (27.7,), (22.2,)]\n",
      "\n",
      "All cities:\n",
      "[('Mumbai',), ('London',), ('Cairo',)]\n",
      "\n",
      "All records for India:\n",
      "[('Mumbai', 'India', 'Winter', 24.8, 5.9), ('Mumbai', 'India', 'Spring', 28.4, 16.2), ('Mumbai', 'India', 'Summer', 27.9, 1549.4), ('Mumbai', 'India', 'Fall', 27.6, 346.0)]\n",
      "\n",
      "All Fall records:\n",
      "[('Mumbai', 'India', 'Fall', 27.6, 346.0), ('London', 'United Kingdom', 'Fall', 10.4, 218.5), ('Cairo', 'Egypt', 'Fall', 22.2, 4.5)]\n",
      "\n",
      "City, country, and season with average rainfall between 200 and 400 millimeters:\n",
      "[('Mumbai', 'India', 'Fall'), ('London', 'United Kingdom', 'Winter'), ('London', 'United Kingdom', 'Fall')]\n",
      "\n",
      "City and country with average Fall temperature above 20 degrees:\n",
      "[('Cairo', 'Egypt'), ('Mumbai', 'India')]\n",
      "\n",
      "Total annual rainfall for Cairo:\n",
      "27.6\n",
      "\n",
      "Total rainfall for each season:\n",
      "[('Fall', 569.0), ('Spring', 192.29999999999998), ('Summer', 1706.5), ('Winter', 230.1)]\n"
     ]
    }
   ],
   "source": [
    "import sqlite3\n",
    "\n",
    "conn = sqlite3.connect('weather.db')\n",
    "cur = conn.cursor()\n",
    "\n",
    "cur.execute(\"SELECT Temperature FROM WeatherData\")\n",
    "print(\"All temperature data:\")\n",
    "print(cur.fetchall())\n",
    "\n",
    "cur.execute(\"SELECT DISTINCT City FROM WeatherData\")\n",
    "print(\"\\nAll cities:\")\n",
    "print(cur.fetchall())\n",
    "\n",
    "cur.execute(\"SELECT * FROM WeatherData WHERE Country = 'India'\")\n",
    "print(\"\\nAll records for India:\")\n",
    "print(cur.fetchall())\n",
    "\n",
    "cur.execute(\"SELECT * FROM WeatherData WHERE Season = 'Fall'\")\n",
    "print(\"\\nAll Fall records:\")\n",
    "print(cur.fetchall())\n",
    "\n",
    "cur.execute(\"SELECT City, Country, Season FROM WeatherData WHERE Rainfall BETWEEN 200 AND 400\")\n",
    "print(\"\\nCity, country, and season with average rainfall between 200 and 400 millimeters:\")\n",
    "print(cur.fetchall())\n",
    "\n",
    "cur.execute(\"SELECT City, Country FROM WeatherData WHERE Season = 'Fall' AND Temperature > 20 ORDER BY Temperature ASC\")\n",
    "print(\"\\nCity and country with average Fall temperature above 20 degrees:\")\n",
    "print(cur.fetchall())\n",
    "\n",
    "cur.execute(\"SELECT SUM(Rainfall) FROM WeatherData WHERE City = 'Cairo'\")\n",
    "print(\"\\nTotal annual rainfall for Cairo:\")\n",
    "print(cur.fetchone()[0])\n",
    "\n",
    "cur.execute(\"SELECT Season, SUM(Rainfall) FROM WeatherData GROUP BY Season\")\n",
    "print(\"\\nTotal rainfall for each season:\")\n",
    "print(cur.fetchall())\n",
    "\n",
    "conn.close()\n"
   ]
  },
  {
   "cell_type": "markdown",
   "id": "79d9fa0f",
   "metadata": {},
   "source": [
    "(Q9)Suppose list words is defined as follows:\n",
    "words = ['The', 'quick', 'brown', 'fox', 'jumps', 'over',\n",
    "'the', 'lazy', 'dog']\n",
    "Write list comprehension expressions that use list words and generate the following\n",
    "lists:\n",
    "a) ['THE', 'QUICK', 'BROWN', 'FOX', 'JUMPS', 'OVER', 'THE',\n",
    "'LAZY', 'DOG']\n",
    "b) ['the', 'quick', 'brown', 'fox', 'jumps', 'over', 'the',\n",
    "'lazy', 'dog']\n",
    "c) [3, 5, 5, 3, 5, 4, 3, 4, 3] (the list of lengths of words in list\n",
    "words).\n",
    "d) [['THE', 'the', 3], ['QUICK', 'quick', 5], ['BROWN',\n",
    "'brown', 5], ['FOX', 'fox', 3], ['JUMPS', 'jumps', 5],\n",
    "['OVER', 'over', 4], ['THE', 'the', 3], ['LAZY', 'lazy',\n",
    "4], ['DOG', 'dog', 3]] (the list containing a list for every word of list\n",
    "words, where each list contains the word in uppercase and lowercase and the\n",
    "length of the word.)\n",
    "e) ['The', 'quick', 'brown', 'fox', 'jumps', 'over', 'the',\n",
    "'lazy', 'dog'] (the list of words in list words containing 4 or more\n",
    "characters.)"
   ]
  },
  {
   "cell_type": "code",
   "execution_count": null,
   "id": "ec34f58c",
   "metadata": {},
   "outputs": [],
   "source": [
    "words = ['The', 'quick', 'brown', 'fox', 'jumps', 'over', 'the', 'lazy', 'dog']\n",
    "words_upper = [word.upper() for word in words]\n",
    "print(words_upper)\n",
    "\n",
    "words_lower = [word.lower() for word in words]\n",
    "print(words_lower)\n",
    "\n",
    "word_lengths = [len(word) for word in words]\n",
    "print(word_lengths)\n",
    "\n",
    "words_list = [[word.upper(), word.lower(), len(word)] for word in words]\n",
    "print(words_list)\n",
    "\n",
    "words_length_4 = [word for word in words if len(word) >= 4]\n",
    "print(words_length_4)\n"
   ]
  },
  {
   "cell_type": "markdown",
   "id": "c61b9362",
   "metadata": {},
   "source": [
    "                                                                                                             Heena Kashyap"
   ]
  }
 ],
 "metadata": {
  "kernelspec": {
   "display_name": "Python 3 (ipykernel)",
   "language": "python",
   "name": "python3"
  },
  "language_info": {
   "codemirror_mode": {
    "name": "ipython",
    "version": 3
   },
   "file_extension": ".py",
   "mimetype": "text/x-python",
   "name": "python",
   "nbconvert_exporter": "python",
   "pygments_lexer": "ipython3",
   "version": "3.9.13"
  }
 },
 "nbformat": 4,
 "nbformat_minor": 5
}
